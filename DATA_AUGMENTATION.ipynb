{
 "cells": [
  {
   "cell_type": "code",
   "execution_count": 9,
   "id": "f240816e",
   "metadata": {},
   "outputs": [],
   "source": [
    "from keras.preprocessing.image import ImageDataGenerator\n",
    "from tensorflow.keras.preprocessing import image\n",
    "import os\n",
    "import numpy\n",
    "from PIL import Image \n",
    "import numpy as np"
   ]
  },
  {
   "cell_type": "code",
   "execution_count": 10,
   "id": "d6f2b1a8",
   "metadata": {},
   "outputs": [],
   "source": [
    "#Path of the folders with training images\n",
    "Bengin=\"beta/The IQ-OTHNCCD lung cancer dataset/Bengin cases\"\n",
    "Malignant=\"beta/The IQ-OTHNCCD lung cancer dataset/Malignant cases\"\n",
    "Normal=\"beta/The IQ-OTHNCCD lung cancer dataset/Normal cases\""
   ]
  },
  {
   "cell_type": "markdown",
   "id": "8a8e9b64",
   "metadata": {},
   "source": [
    "## Next Cell might take some time to run and create new images\n",
    "###### Please Wait...."
   ]
  },
  {
   "cell_type": "code",
   "execution_count": 11,
   "id": "6234b4bd",
   "metadata": {},
   "outputs": [],
   "source": [
    "# Create an ImageDataGenerator instance with desired augmentation configurations\n",
    "data_generator = ImageDataGenerator(\n",
    "    width_shift_range=0.1,  # Example width shift augmentation\n",
    "    height_shift_range=0.1,  # Example height shift augmentation\n",
    "    horizontal_flip=True,  # Example horizontal flip augmentation\n",
    "    shear_range=0.2\n",
    ")\n",
    "\n",
    "# Iterate over the files in the folder\n",
    "for filename in os.listdir(Bengin):\n",
    "    file_path = os.path.join(Bengin, filename)\n",
    "    if os.path.isfile(file_path):\n",
    "        image = Image.open(file_path)\n",
    "        image = image.convert('RGB')\n",
    "        image_array = np.array(image)\n",
    "        image_array = np.expand_dims(image_array, axis=0)\n",
    "        \n",
    "        # Generate augmented images from the original image\n",
    "        augmented_images = data_generator.flow(image_array, batch_size=1, save_to_dir=Bengin, save_prefix='augmented_')\n",
    "        \n",
    "        # Save the augmented images\n",
    "        for i in range(10):  # Save 10 augmented images per original image\n",
    "            augmented_image = augmented_images.next()\n",
    "        \n",
    "# Iterate over the files in the folder\n",
    "for filename in os.listdir(Malignant):\n",
    "    file_path = os.path.join(Malignant, filename)\n",
    "    if os.path.isfile(file_path):\n",
    "        image = Image.open(file_path)\n",
    "        image = image.convert('RGB')\n",
    "        image_array = np.array(image)\n",
    "        image_array = np.expand_dims(image_array, axis=0)\n",
    "        \n",
    "        # Generate augmented images from the original image\n",
    "        augmented_images = data_generator.flow(image_array, batch_size=1, save_to_dir=Malignant, save_prefix='augmented_')\n",
    "        \n",
    "        # Save the augmented images\n",
    "        for i in range(10):  # Save 10 augmented images per original image\n",
    "            augmented_image = augmented_images.next()\n",
    "            \n",
    "# Iterate over the files in the folder\n",
    "for filename in os.listdir(Normal):\n",
    "    file_path = os.path.join(Normal, filename)\n",
    "    if os.path.isfile(file_path):\n",
    "        image = Image.open(file_path)\n",
    "        image = image.convert('RGB')\n",
    "        image_array = np.array(image)\n",
    "        image_array = np.expand_dims(image_array, axis=0)\n",
    "        \n",
    "        # Generate augmented images from the original image\n",
    "        augmented_images = data_generator.flow(image_array, batch_size=1, save_to_dir=Normal, save_prefix='augmented_')\n",
    "        \n",
    "        # Save the augmented images\n",
    "        for i in range(10):  # Save 10 augmented images per original image\n",
    "            augmented_image = augmented_images.next()"
   ]
  },
  {
   "cell_type": "code",
   "execution_count": null,
   "id": "0ff824c0",
   "metadata": {},
   "outputs": [],
   "source": [
    "'''#Reshape the images for model\n",
    "\n",
    "reshape=[]\n",
    "\n",
    "for image_array in x:\n",
    "    if len(image_array.shape)==2:\n",
    "        image_array=np.expand_dims(image_array,axis=1)\n",
    "        \n",
    "    if image_array.shape[0]==1 and image_array.shape[1]==1:\n",
    "        image_array=np.squeeze(image_array)\n",
    "    \n",
    "    image=PIL.Image.fromarray(image_array.astype('uint8'))\n",
    "    resize=image.resize((320,320))\n",
    "    reshape.append(np.array(resize))\n",
    "\n",
    "x=np.array(reshape)\n",
    "    \n",
    "'''"
   ]
  }
 ],
 "metadata": {
  "kernelspec": {
   "display_name": "Python 3 (ipykernel)",
   "language": "python",
   "name": "python3"
  },
  "language_info": {
   "codemirror_mode": {
    "name": "ipython",
    "version": 3
   },
   "file_extension": ".py",
   "mimetype": "text/x-python",
   "name": "python",
   "nbconvert_exporter": "python",
   "pygments_lexer": "ipython3",
   "version": "3.10.4"
  }
 },
 "nbformat": 4,
 "nbformat_minor": 5
}
